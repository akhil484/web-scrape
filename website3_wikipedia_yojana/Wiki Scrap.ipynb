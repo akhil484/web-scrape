{
 "cells": [
  {
   "cell_type": "code",
   "execution_count": 2,
   "metadata": {
    "collapsed": false
   },
   "outputs": [
    {
     "name": "stderr",
     "output_type": "stream",
     "text": [
      "c:\\python27\\lib\\site-packages\\cffi\\model.py:526: UserWarning: 'point_conversion_form_t' has no values explicitly defined; next version will refuse to guess which integer type it is meant to be (unsigned/signed, int/long)\n",
      "  % self._get_c_name())\n"
     ]
    }
   ],
   "source": [
    "import urllib2\n",
    "import urllib\n",
    "from bs4 import BeautifulSoup\n",
    "import sys\n",
    "import requests\n",
    "import json\n",
    "import time\n",
    "import re\n",
    "import csv\n",
    "import re\n",
    "import time\n",
    "import pandas as pd\n",
    "import numpy as np\n",
    "from pandas import ExcelWriter"
   ]
  },
  {
   "cell_type": "code",
   "execution_count": 3,
   "metadata": {
    "collapsed": true
   },
   "outputs": [],
   "source": [
    "def post_(url,params1):\n",
    "\tr = requests.post(url,params=params1)\n",
    "\treturn r\n",
    "def get_(url,params1):\n",
    "\tr = requests.get(url,params=params1)\n",
    "\treturn r\n",
    "def get_nop(url,params1):\n",
    "\tr = requests.get(url)\n",
    "\treturn r\n",
    "def get_prod_details(url):\n",
    "\thtml = get_nop(url,{})\n",
    "\tsoup = BeautifulSoup(html.text,\"html.parser\")\n",
    "\t#title-wrap line fk-font-family-museo section omniture-field\n",
    "\tprod ={}\n",
    "\tname = soup.findAll(\"div\", { \"class\" : \"title-wrap line fk-font-family-museo section omniture-field\" })\n",
    "\tprod['name']=name[0].text.strip()\n",
    "\t#keyFeatures specSection\n",
    "\tdescription = soup.findAll(\"div\", { \"class\" : \"gd-col gu12\"})\n",
    "\ttext = ''\n",
    "\tfor d in description:\n",
    "\t\ttext = text + get_text(d).strip()\n",
    "\tprod['description'] = my_strip(text)\n",
    "\t#key-specifications fk-ul-disc lpadding20 line fk-font-11 fk-fontlight\n",
    "\tdescription2 = soup.findAll(\"ul\", { \"class\" : \"key-specifications fk-ul-disc lpadding20 line fk-font-11 fk-fontlight\" })\n",
    "\ttext = ''\n",
    "\tfor d in description2:\n",
    "\t\ttext = text + get_text(d)\n",
    "\tprod['description2'] = my_strip(text)\n",
    "\treturn prod\n",
    "def parse_prod(prod):\n",
    "\t#print prod\n",
    "\t#fk-display-block\n",
    "\ttitle = prod.findAll(\"a\", { \"class\" : \"fk-display-block\" },href=True)\n",
    "\tp={}\n",
    "\tp['url'] = base_url + title[0]['href']\n",
    "\treturn p \n",
    "\t\n",
    "def get_text(node):\n",
    "\t#print node\n",
    "\taddinfo = node\n",
    "\tif len(addinfo) > 0:\n",
    "\t\t\taddinfo = ''.join(addinfo.findAll(text=True))\n",
    "\telse:\n",
    "\t\taddinfo = ''\n",
    "\treturn addinfo\n",
    "def my_strip(text):\n",
    "\ttext = re.sub('\\s+',' ',text)\n",
    "\treturn text"
   ]
  },
  {
   "cell_type": "code",
   "execution_count": 29,
   "metadata": {
    "collapsed": true
   },
   "outputs": [],
   "source": [
    "api_url = 'https://en.wikipedia.org/wiki/List_of_government_schemes_in_India';"
   ]
  },
  {
   "cell_type": "code",
   "execution_count": 30,
   "metadata": {
    "collapsed": false
   },
   "outputs": [],
   "source": [
    "for i in range(0,1):\n",
    "    params = {\n",
    "    'sid':\"mgl,u35\",\n",
    "    'filterNone':True,\n",
    "    'start':1,\n",
    "    'ajax':True,\n",
    "    '_':1453012261736\n",
    "    };\n",
    "for i in range(1,2):\n",
    "    p = params\n",
    "    p['start'] = i\n",
    "    html = get_(api_url,p)\n",
    "    soup = BeautifulSoup(html.text,\"html.parser\")"
   ]
  },
  {
   "cell_type": "code",
   "execution_count": 31,
   "metadata": {
    "collapsed": false
   },
   "outputs": [],
   "source": [
    "all_data = soup.find(\"table\", { \"class\" : \"wikitable sortable\" }).find_all('tr')"
   ]
  },
  {
   "cell_type": "code",
   "execution_count": 67,
   "metadata": {
    "collapsed": false
   },
   "outputs": [],
   "source": [
    "data_ = []\n",
    "data_cols = []\n",
    "for each_data in all_data:\n",
    "    tds = each_data.find_all('td')\n",
    "    if(len(tds)>0):\n",
    "        tds = [x.text.strip().encode('ascii','ignore') for x in tds]\n",
    "        tds[2] = tds[2][23:]\n",
    "        data_.append(tds)\n",
    "    if(len(tds)==0):\n",
    "        ths = each_data.find_all('th')\n",
    "        if(len(ths)>0):\n",
    "            data_cols = [x.text.strip().encode('ascii','ignore') for x in ths]"
   ]
  },
  {
   "cell_type": "code",
   "execution_count": 69,
   "metadata": {
    "collapsed": false
   },
   "outputs": [],
   "source": [
    "data_ = pd.DataFrame(data_, columns = data_cols)"
   ]
  },
  {
   "cell_type": "code",
   "execution_count": 70,
   "metadata": {
    "collapsed": false
   },
   "outputs": [
    {
     "data": {
      "text/html": [
       "<div>\n",
       "<table border=\"1\" class=\"dataframe\">\n",
       "  <thead>\n",
       "    <tr style=\"text-align: right;\">\n",
       "      <th></th>\n",
       "      <th>Scheme</th>\n",
       "      <th>Ministry</th>\n",
       "      <th>Date of Launch</th>\n",
       "      <th>Outlay/Status</th>\n",
       "      <th>Sector</th>\n",
       "      <th>Provisions</th>\n",
       "    </tr>\n",
       "  </thead>\n",
       "  <tbody>\n",
       "    <tr>\n",
       "      <th>0</th>\n",
       "      <td>Atal Pension Yojana [1]</td>\n",
       "      <td></td>\n",
       "      <td>May 9, 2015</td>\n",
       "      <td></td>\n",
       "      <td>Pension</td>\n",
       "      <td>Social Sector Scheme pertaining to Pension Sector</td>\n",
       "    </tr>\n",
       "    <tr>\n",
       "      <th>1</th>\n",
       "      <td>Bachat Lamp Yojana</td>\n",
       "      <td>MoP</td>\n",
       "      <td>2009</td>\n",
       "      <td></td>\n",
       "      <td>Electrification</td>\n",
       "      <td>reduce the cost of compact fluorescent lamps</td>\n",
       "    </tr>\n",
       "    <tr>\n",
       "      <th>2</th>\n",
       "      <td>Central Government Health Scheme</td>\n",
       "      <td>MoHFW</td>\n",
       "      <td>1954</td>\n",
       "      <td></td>\n",
       "      <td>Health</td>\n",
       "      <td>comprehensive medical care facilities to Centr...</td>\n",
       "    </tr>\n",
       "    <tr>\n",
       "      <th>3</th>\n",
       "      <td>Deendayal Disabled Rehabilitation Scheme</td>\n",
       "      <td>MoSJE</td>\n",
       "      <td>2003</td>\n",
       "      <td></td>\n",
       "      <td>Social Justice</td>\n",
       "      <td>Create an enabling environment to ensure equal...</td>\n",
       "    </tr>\n",
       "    <tr>\n",
       "      <th>4</th>\n",
       "      <td>Deen Dayal Upadhyaya Gram Jyoti Yojana [2]</td>\n",
       "      <td>MoP</td>\n",
       "      <td>2015</td>\n",
       "      <td></td>\n",
       "      <td>Rural Power Supply</td>\n",
       "      <td>It is a Government of India program aimed at p...</td>\n",
       "    </tr>\n",
       "  </tbody>\n",
       "</table>\n",
       "</div>"
      ],
      "text/plain": [
       "                                       Scheme Ministry Date of Launch  \\\n",
       "0                     Atal Pension Yojana [1]             May 9, 2015   \n",
       "1                          Bachat Lamp Yojana      MoP           2009   \n",
       "2            Central Government Health Scheme    MoHFW           1954   \n",
       "3    Deendayal Disabled Rehabilitation Scheme    MoSJE           2003   \n",
       "4  Deen Dayal Upadhyaya Gram Jyoti Yojana [2]      MoP           2015   \n",
       "\n",
       "  Outlay/Status              Sector  \\\n",
       "0                           Pension   \n",
       "1                   Electrification   \n",
       "2                            Health   \n",
       "3                    Social Justice   \n",
       "4                Rural Power Supply   \n",
       "\n",
       "                                          Provisions  \n",
       "0  Social Sector Scheme pertaining to Pension Sector  \n",
       "1       reduce the cost of compact fluorescent lamps  \n",
       "2  comprehensive medical care facilities to Centr...  \n",
       "3  Create an enabling environment to ensure equal...  \n",
       "4  It is a Government of India program aimed at p...  "
      ]
     },
     "execution_count": 70,
     "metadata": {},
     "output_type": "execute_result"
    }
   ],
   "source": [
    "data_.head(5)"
   ]
  },
  {
   "cell_type": "code",
   "execution_count": 71,
   "metadata": {
    "collapsed": true
   },
   "outputs": [],
   "source": [
    "data_.to_csv('scraped_data_wiki.csv')"
   ]
  },
  {
   "cell_type": "code",
   "execution_count": null,
   "metadata": {
    "collapsed": true
   },
   "outputs": [],
   "source": []
  }
 ],
 "metadata": {
  "kernelspec": {
   "display_name": "Python 2",
   "language": "python",
   "name": "python2"
  },
  "language_info": {
   "codemirror_mode": {
    "name": "ipython",
    "version": 2
   },
   "file_extension": ".py",
   "mimetype": "text/x-python",
   "name": "python",
   "nbconvert_exporter": "python",
   "pygments_lexer": "ipython2",
   "version": "2.7.9"
  }
 },
 "nbformat": 4,
 "nbformat_minor": 0
}
